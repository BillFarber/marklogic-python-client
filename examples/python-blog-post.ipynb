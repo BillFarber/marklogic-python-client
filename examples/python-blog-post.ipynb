{
 "cells": [
  {
   "cell_type": "code",
   "execution_count": null,
   "id": "e57c4da7",
   "metadata": {},
   "outputs": [],
   "source": [
    "# Change this if needed to point to your MarkLogic instance.\n",
    "base_url = \"http://localhost\"\n",
    "\n",
    "# The admin account that can be used to create a new user and role.\n",
    "adminUser = \"admin\"\n",
    "adminPassword = \"admin\"\n",
    "\n",
    "# The user to create which will be used for all of the examples.\n",
    "user = \"python-blog-user\"\n",
    "password = \"pyth0n\"\n",
    "role_name = \"python-blog-role\"\n",
    "\n",
    "import json\n",
    "import requests\n",
    "from requests.auth import HTTPDigestAuth\n",
    "\n",
    "admin_session = requests.Session()\n",
    "admin_session.auth = HTTPDigestAuth(adminUser, adminPassword)\n",
    "\n",
    "user_session = requests.Session()\n",
    "user_session.auth = HTTPDigestAuth(user, password)"
   ]
  },
  {
   "cell_type": "code",
   "execution_count": null,
   "id": "be67fafe",
   "metadata": {
    "scrolled": true
   },
   "outputs": [],
   "source": [
    "# Create a MarkLogic role that allows a user to run all of the examples below. \n",
    "# See https://docs.marklogic.com/guide/security/intro for more information on MarkLogic security.\n",
    "\n",
    "admin_session.post(\n",
    "    f\"{base_url}:8002/manage/v2/roles\",\n",
    "    headers={\"Content-type\": \"application/json\"},\n",
    "    data=json.dumps({\n",
    "        \"role-name\":role_name, \n",
    "        \"role\":[\"tde-admin\", \"rest-writer\", \"qconsole-user\"], \n",
    "        \"privilege\":[\n",
    "            {\"privilege-name\":\"xdmp:document-get\", \"action\":\"http://marklogic.com/xdmp/privileges/xdmp-document-get\", \"kind\":\"execute\"}, \n",
    "            {\"privilege-name\":\"unprotected-collections\", \"action\":\"http://marklogic.com/xdmp/privileges/unprotected-collections\", \"kind\":\"execute\"}, \n",
    "            {\"privilege-name\":\"any-uri\", \"action\":\"http://marklogic.com/xdmp/privileges/any-uri\", \"kind\":\"execute\"}\n",
    "        ]\n",
    "    })\n",
    ")"
   ]
  },
  {
   "cell_type": "code",
   "execution_count": null,
   "id": "65ba6b95",
   "metadata": {},
   "outputs": [],
   "source": [
    "# Create a new MarkLogic user with the role that was just created.\n",
    "\n",
    "admin_session.post(\n",
    "    f'{base_url}:8002/manage/v2/users',\n",
    "    headers={'Content-type': 'application/json'},\n",
    "    data=json.dumps({\"user-name\": user, \"password\": password, \"role\":[role_name]}),\n",
    ")"
   ]
  },
  {
   "cell_type": "code",
   "execution_count": null,
   "id": "36d53116",
   "metadata": {},
   "outputs": [],
   "source": [
    "# Load 500 JSON employee documents into the Documents database.\n",
    "\n",
    "r = requests.get(\"https://raw.githubusercontent.com/marklogic/marklogic-spark-connector/master/src/test/resources/500-employees.json\")\n",
    "\n",
    "for employee in json.loads(r.text):\n",
    "    user_session.put(\n",
    "        f'{base_url}:8000/v1/documents',\n",
    "        params={'uri': employee['uri'], 'collection': 'employee'},\n",
    "        data=json.dumps(employee['value'])\n",
    "    )\n",
    "\n",
    "print(\"Finished loading employees.\")"
   ]
  },
  {
   "cell_type": "code",
   "execution_count": null,
   "id": "b99041a8",
   "metadata": {},
   "outputs": [],
   "source": [
    "# Search all employee documents, printing out the response from MarkLogic.\n",
    "\n",
    "r = user_session.get(\n",
    "    f'{base_url}:8000/v1/search',\n",
    "    headers={'Accept': 'application/json'},\n",
    "    params={'collection': 'employee'}\n",
    ")\n",
    "print(json.dumps(json.loads(r.text), indent=2))"
   ]
  },
  {
   "cell_type": "code",
   "execution_count": null,
   "id": "5e280dce",
   "metadata": {},
   "outputs": [],
   "source": [
    "# Search employee documents containing \"San Jose\" and verify only 1 result is returned.\n",
    "\n",
    "r = user_session.get(\n",
    "    f'{base_url}:8000/v1/search',\n",
    "    headers={'Accept': 'application/json'},\n",
    "    params={'collection': 'employee', 'q': '\"San Jose\"'}\n",
    ")\n",
    "results = json.loads(r.text)\n",
    "assert results['total'] == 1\n",
    "print(json.dumps(results, indent=2))"
   ]
  },
  {
   "cell_type": "code",
   "execution_count": null,
   "id": "2c59059f",
   "metadata": {},
   "outputs": [],
   "source": [
    "# Update an employee to contain the phrase \"San Jose\".\n",
    "\n",
    "url = f'{base_url}:8000/v1/documents'\n",
    "uri = '/data/employees/093caccf-f7ed-4572-a8fa-6390caf4d20e.json'\n",
    "\n",
    "r = user_session.get(url, params={'uri': uri})\n",
    "doc = json.loads(r.text)\n",
    "doc['City'] = 'San Jose'\n",
    "doc['State'] = 'CA'\n",
    "user_session.put(url, params={'uri':uri}, data=json.dumps(doc))"
   ]
  },
  {
   "cell_type": "code",
   "execution_count": null,
   "id": "e7be39a6",
   "metadata": {},
   "outputs": [],
   "source": [
    "# Search for San Jose again and verify that 2 results are now returned.\n",
    "\n",
    "r = user_session.get(\n",
    "    f'{base_url}:8000/v1/search',\n",
    "    headers={'Accept': 'application/json'},\n",
    "    params={'collection': 'employee', 'q': '\"San Jose\"'}\n",
    ")\n",
    "results = json.loads(r.text)\n",
    "assert results['total'] == 2\n",
    "print(json.dumps(results, indent=2))"
   ]
  },
  {
   "cell_type": "code",
   "execution_count": null,
   "id": "3cef35af",
   "metadata": {},
   "outputs": [],
   "source": [
    "# Load a TDE template into the Schemas database. \n",
    "# This creates a view projecting rows from the employee documents.\n",
    "# See https://docs.marklogic.com/guide/app-dev/TDE for more information.\n",
    "\n",
    "template = {\n",
    "    \"template\": {\n",
    "        \"context\": \"/\",\n",
    "        \"collections\": [\"employee\"],\n",
    "        \"rows\": [\n",
    "            {\n",
    "                \"schemaName\": \"example\",\n",
    "                \"viewName\": \"employee\",\n",
    "                \"columns\": [\n",
    "                    {\"name\": \"GivenName\", \"scalarType\": \"string\", \"val\": \"GivenName\"},\n",
    "                    {\"name\": \"Surname\", \"scalarType\": \"string\", \"val\": \"Surname\"},\n",
    "                    {\"name\": \"BaseSalary\", \"scalarType\": \"double\", \"val\": \"BaseSalary\"},\n",
    "                    {\"name\": \"City\", \"scalarType\": \"string\", \"val\": \"City\"},\n",
    "                    {\"name\": \"Department\", \"scalarType\": \"string\", \"val\": \"Department\"},\n",
    "                ],\n",
    "            }\n",
    "        ],\n",
    "    }\n",
    "}\n",
    "\n",
    "admin_session.put(\n",
    "    f'{base_url}:8000/v1/documents',\n",
    "    data=json.dumps(template),\n",
    "    headers={'Content-Type': 'application/json'},\n",
    "    params={\n",
    "        'uri': '/employee-template.json',\n",
    "        'collection': 'http://marklogic.com/xdmp/tde',\n",
    "        'database': 'Schemas'\n",
    "    }\n",
    ")"
   ]
  },
  {
   "cell_type": "code",
   "execution_count": null,
   "id": "d1c4c057",
   "metadata": {},
   "outputs": [],
   "source": [
    "# Retrieve employees as JSON rows using an Optic query, printing the response from MarkLogic.\n",
    "# See https://docs.marklogic.com/11.0/guide/optic-guide/en/getting-started-with-optic.html for more information.\n",
    "\n",
    "optic_query = 'op.fromView(\"example\", \"employee\").where(op.eq(op.col(\"City\"), \"San Jose\"))'\n",
    "r = user_session.post(\n",
    "    f'{base_url}:8000/v1/rows?column-types=header', \n",
    "    headers={\n",
    "        'Content-type': 'application/vnd.marklogic.querydsl+javascript',\n",
    "        'Accept': 'application/json'\n",
    "    },\n",
    "    data=optic_query\n",
    ")\n",
    "results = json.loads(r.text)\n",
    "print(json.dumps(results, indent=2))"
   ]
  },
  {
   "cell_type": "code",
   "execution_count": null,
   "id": "f0debd3a",
   "metadata": {},
   "outputs": [],
   "source": [
    "# Retrieve employees as CSV data and create a pandas DataFrame.\n",
    "\n",
    "%pip install pandas\n",
    "import pandas as pd\n",
    "import io\n",
    "\n",
    "query = 'op.fromView(\"example\", \"employee\", \"\").where(op.eq(op.col(\"City\"), \"San Jose\"))'\n",
    "r = user_session.post(\n",
    "    f'{base_url}:8000/v1/rows', \n",
    "    headers={\n",
    "        'Content-type': 'application/vnd.marklogic.querydsl+javascript',\n",
    "        'Accept': 'text/csv'\n",
    "    },\n",
    "    data=query\n",
    ")\n",
    "\n",
    "df = pd.read_csv(io.StringIO(r.text))\n",
    "print(df.head())"
   ]
  },
  {
   "cell_type": "code",
   "execution_count": null,
   "id": "d2b55d7d",
   "metadata": {},
   "outputs": [],
   "source": [
    "# Cleanup = delete the user and role and the 500 documents.\n",
    "\n",
    "admin_session.delete(f'{base_url}:8002/manage/v2/roles/{role_name}')\n",
    "admin_session.delete(f'{base_url}:8002/manage/v2/users/{user}')\n",
    "admin_session.delete(\n",
    "    f'{base_url}:8000/v1/search',\n",
    "    params={'collection': 'employee'}\n",
    ")"
   ]
  }
 ],
 "metadata": {
  "kernelspec": {
   "display_name": "Python 3 (ipykernel)",
   "language": "python",
   "name": "python3"
  },
  "language_info": {
   "codemirror_mode": {
    "name": "ipython",
    "version": 3
   },
   "file_extension": ".py",
   "mimetype": "text/x-python",
   "name": "python",
   "nbconvert_exporter": "python",
   "pygments_lexer": "ipython3",
   "version": "3.11.3"
  }
 },
 "nbformat": 4,
 "nbformat_minor": 5
}
